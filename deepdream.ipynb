{
 "cells": [
  {
   "cell_type": "code",
   "execution_count": 33,
   "metadata": {
    "cellView": "both",
    "colab": {
     "autoexec": {
      "startup": false,
      "wait_interval": 0
     },
     "output_extras": []
    },
    "colab_type": "code",
    "collapsed": true,
    "executionInfo": {
     "elapsed": 371,
     "status": "ok",
     "timestamp": 1457963606294,
     "user": {
      "color": "#1FA15D",
      "displayName": "Alexander Mordvintsev",
      "isAnonymous": false,
      "isMe": true,
      "permissionId": "12341152118244997759",
      "photoUrl": "https://lh3.googleusercontent.com/-XdUIqdMkCWA/AAAAAAAAAAI/AAAAAAAAAAA/4252rscbv5M/s128/photo.jpg",
      "sessionId": "1269ead540f76ce5",
      "userId": "108092561333339272254"
     },
     "user_tz": -60
    },
    "id": "jtD9nb-2QgkY",
    "outputId": "b935629b-8608-45c1-942f-612b7dbb13d3",
    "scrolled": false
   },
   "outputs": [],
   "source": [
    "# boilerplate code\n",
    "%matplotlib inline\n",
    "from __future__ import print_function\n",
    "import os\n",
    "from io import BytesIO\n",
    "import numpy as np\n",
    "from functools import partial\n",
    "import PIL.Image\n",
    "from IPython.display import clear_output, Image, display, HTML\n",
    "from libs import vgg16, inception, i2v\n",
    "import tensorflow as tf\n",
    "import matplotlib.pyplot as plt\n",
    "\n"
   ]
  },
  {
   "cell_type": "code",
   "execution_count": 34,
   "metadata": {
    "collapsed": false
   },
   "outputs": [],
   "source": [
    "#!wget https://storage.googleapis.com/download.tensorflow.org/models/inception5h.zip && unzip inception5h.zip"
   ]
  },
  {
   "cell_type": "code",
   "execution_count": 35,
   "metadata": {
    "collapsed": false
   },
   "outputs": [],
   "source": [
    "#net = vgg16.get_vgg_model()"
   ]
  },
  {
   "cell_type": "code",
   "execution_count": 36,
   "metadata": {
    "collapsed": false
   },
   "outputs": [],
   "source": [
    "#model_fn = 'vgg16.tfmodel'\n",
    "model_fn = 'tensorflow_inception_graph.pb'\n",
    "\n",
    "# creating TensorFlow session and loading the model\n",
    "graph = tf.Graph()\n",
    "sess = tf.InteractiveSession(graph=graph)\n",
    "with tf.gfile.FastGFile(model_fn, 'rb') as f:\n",
    "    graph_def = tf.GraphDef()\n",
    "    graph_def.ParseFromString(f.read())\n",
    "t_input = tf.placeholder(np.float32, name='input') # define the input tensor\n",
    "imagenet_mean = 117.0\n",
    "t_preprocessed = tf.expand_dims(t_input-imagenet_mean, 0)\n",
    "#tf.import_graph_def(net['graph_def'], {'images':t_preprocessed})\n",
    "tf.import_graph_def(graph_def, {'input':t_preprocessed})"
   ]
  },
  {
   "cell_type": "code",
   "execution_count": null,
   "metadata": {
    "collapsed": true
   },
   "outputs": [],
   "source": []
  },
  {
   "cell_type": "code",
   "execution_count": 37,
   "metadata": {
    "cellView": "both",
    "colab": {
     "autoexec": {
      "startup": false,
      "wait_interval": 0
     },
     "output_extras": [
      {
       "item_id": 1
      },
      {
       "item_id": 2
      }
     ]
    },
    "colab_type": "code",
    "collapsed": false,
    "executionInfo": {
     "elapsed": 1198,
     "status": "ok",
     "timestamp": 1457962715078,
     "user": {
      "color": "#1FA15D",
      "displayName": "Alexander Mordvintsev",
      "isAnonymous": false,
      "isMe": true,
      "permissionId": "12341152118244997759",
      "photoUrl": "https://lh3.googleusercontent.com/-XdUIqdMkCWA/AAAAAAAAAAI/AAAAAAAAAAA/4252rscbv5M/s128/photo.jpg",
      "sessionId": "761b412462cda2d0",
      "userId": "108092561333339272254"
     },
     "user_tz": -60
    },
    "id": "LrucdvgyQgks",
    "outputId": "5936270b-5da8-4825-b2e9-145c494d36e6",
    "scrolled": false
   },
   "outputs": [],
   "source": [
    "#layers = [op.name for op in graph.get_operations() if op.type=='Conv2D' and 'import/' in op.name]\n",
    "layers = [op.name for op in graph.get_operations()]\n",
    "#feature_nums = [int(graph.get_tensor_by_name(name+':0').get_shape()[-1]) for name in layers]\n",
    "\n",
    "#print('Number of layers', len(layers))\n",
    "#print('Total number of feature channels:', sum(feature_nums))\n",
    "\n",
    "\n",
    "# Helper functions for TF Graph visualization\n",
    "\n",
    "def strip_consts(graph_def, max_const_size=32):\n",
    "    \"\"\"Strip large constant values from graph_def.\"\"\"\n",
    "    strip_def = tf.GraphDef()\n",
    "    for n0 in graph_def.node:\n",
    "        n = strip_def.node.add() \n",
    "        n.MergeFrom(n0)\n",
    "        if n.op == 'Const':\n",
    "            tensor = n.attr['value'].tensor\n",
    "            size = len(tensor.tensor_content)\n",
    "            if size > max_const_size:\n",
    "                tensor.tensor_content = tf.compat.as_bytes(\"<stripped %d bytes>\"%size)\n",
    "    return strip_def\n",
    "  \n",
    "def rename_nodes(graph_def, rename_func):\n",
    "    res_def = tf.GraphDef()\n",
    "    for n0 in graph_def.node:\n",
    "        n = res_def.node.add() \n",
    "        n.MergeFrom(n0)\n",
    "        n.name = rename_func(n.name)\n",
    "        for i, s in enumerate(n.input):\n",
    "            n.input[i] = rename_func(s) if s[0]!='^' else '^'+rename_func(s[1:])\n",
    "    return res_def\n",
    "  \n",
    "def show_graph(graph_def, max_const_size=32):\n",
    "    \"\"\"Visualize TensorFlow graph.\"\"\"\n",
    "    if hasattr(graph_def, 'as_graph_def'):\n",
    "        graph_def = graph_def.as_graph_def()\n",
    "    strip_def = strip_consts(graph_def, max_const_size=max_const_size)\n",
    "    code = \"\"\"\n",
    "        <script>\n",
    "          function load() {{\n",
    "            document.getElementById(\"{id}\").pbtxt = {data};\n",
    "          }}\n",
    "        </script>\n",
    "        <link rel=\"import\" href=\"https://tensorboard.appspot.com/tf-graph-basic.build.html\" onload=load()>\n",
    "        <div style=\"height:600px\">\n",
    "          <tf-graph-basic id=\"{id}\"></tf-graph-basic>\n",
    "        </div>\n",
    "    \"\"\".format(data=repr(str(strip_def)), id='graph'+str(np.random.rand()))\n",
    "  \n",
    "    iframe = \"\"\"\n",
    "        <iframe seamless style=\"width:800px;height:620px;border:0\" srcdoc=\"{}\"></iframe>\n",
    "    \"\"\".format(code.replace('\"', '&quot;'))\n",
    "    display(HTML(iframe))\n",
    "\n",
    "# Visualizing the network graph. Be sure expand the \"mixed\" nodes to see their \n",
    "# internal structure. We are going to visualize \"Conv2D\" nodes.\n",
    "tmp_def = rename_nodes(graph_def, lambda s:\"/\".join(s.split('_',1)))\n",
    "#show_graph(tmp_def)"
   ]
  },
  {
   "cell_type": "markdown",
   "metadata": {
    "colab_type": "text",
    "id": "Nv2JqNLBhy1j"
   },
   "source": [
    "<a id='naive'></a>\n",
    "## Naive feature visualization"
   ]
  },
  {
   "cell_type": "code",
   "execution_count": 38,
   "metadata": {
    "collapsed": false
   },
   "outputs": [
    {
     "data": {
      "text/plain": [
       "['input',\n",
       " 'sub/y',\n",
       " 'sub',\n",
       " 'ExpandDims/dim',\n",
       " 'ExpandDims',\n",
       " 'import/input',\n",
       " 'import/conv2d0_w',\n",
       " 'import/conv2d0_b',\n",
       " 'import/conv2d1_w',\n",
       " 'import/conv2d1_b',\n",
       " 'import/conv2d2_w',\n",
       " 'import/conv2d2_b',\n",
       " 'import/mixed3a_1x1_w',\n",
       " 'import/mixed3a_1x1_b',\n",
       " 'import/mixed3a_3x3_bottleneck_w',\n",
       " 'import/mixed3a_3x3_bottleneck_b',\n",
       " 'import/mixed3a_3x3_w',\n",
       " 'import/mixed3a_3x3_b',\n",
       " 'import/mixed3a_5x5_bottleneck_w',\n",
       " 'import/mixed3a_5x5_bottleneck_b',\n",
       " 'import/mixed3a_5x5_w',\n",
       " 'import/mixed3a_5x5_b',\n",
       " 'import/mixed3a_pool_reduce_w',\n",
       " 'import/mixed3a_pool_reduce_b',\n",
       " 'import/mixed3b_1x1_w',\n",
       " 'import/mixed3b_1x1_b',\n",
       " 'import/mixed3b_3x3_bottleneck_w',\n",
       " 'import/mixed3b_3x3_bottleneck_b',\n",
       " 'import/mixed3b_3x3_w',\n",
       " 'import/mixed3b_3x3_b',\n",
       " 'import/mixed3b_5x5_bottleneck_w',\n",
       " 'import/mixed3b_5x5_bottleneck_b',\n",
       " 'import/mixed3b_5x5_w',\n",
       " 'import/mixed3b_5x5_b',\n",
       " 'import/mixed3b_pool_reduce_w',\n",
       " 'import/mixed3b_pool_reduce_b',\n",
       " 'import/mixed4a_1x1_w',\n",
       " 'import/mixed4a_1x1_b',\n",
       " 'import/mixed4a_3x3_bottleneck_w',\n",
       " 'import/mixed4a_3x3_bottleneck_b',\n",
       " 'import/mixed4a_3x3_w',\n",
       " 'import/mixed4a_3x3_b',\n",
       " 'import/mixed4a_5x5_bottleneck_w',\n",
       " 'import/mixed4a_5x5_bottleneck_b',\n",
       " 'import/mixed4a_5x5_w',\n",
       " 'import/mixed4a_5x5_b',\n",
       " 'import/mixed4a_pool_reduce_w',\n",
       " 'import/mixed4a_pool_reduce_b',\n",
       " 'import/mixed4b_1x1_w',\n",
       " 'import/mixed4b_1x1_b',\n",
       " 'import/mixed4b_3x3_bottleneck_w',\n",
       " 'import/mixed4b_3x3_bottleneck_b',\n",
       " 'import/mixed4b_3x3_w',\n",
       " 'import/mixed4b_3x3_b',\n",
       " 'import/mixed4b_5x5_bottleneck_w',\n",
       " 'import/mixed4b_5x5_bottleneck_b',\n",
       " 'import/mixed4b_5x5_w',\n",
       " 'import/mixed4b_5x5_b',\n",
       " 'import/mixed4b_pool_reduce_w',\n",
       " 'import/mixed4b_pool_reduce_b',\n",
       " 'import/mixed4c_1x1_w',\n",
       " 'import/mixed4c_1x1_b',\n",
       " 'import/mixed4c_3x3_bottleneck_w',\n",
       " 'import/mixed4c_3x3_bottleneck_b',\n",
       " 'import/mixed4c_3x3_w',\n",
       " 'import/mixed4c_3x3_b',\n",
       " 'import/mixed4c_5x5_bottleneck_w',\n",
       " 'import/mixed4c_5x5_bottleneck_b',\n",
       " 'import/mixed4c_5x5_w',\n",
       " 'import/mixed4c_5x5_b',\n",
       " 'import/mixed4c_pool_reduce_w',\n",
       " 'import/mixed4c_pool_reduce_b',\n",
       " 'import/mixed4d_1x1_w',\n",
       " 'import/mixed4d_1x1_b',\n",
       " 'import/mixed4d_3x3_bottleneck_w',\n",
       " 'import/mixed4d_3x3_bottleneck_b',\n",
       " 'import/mixed4d_3x3_w',\n",
       " 'import/mixed4d_3x3_b',\n",
       " 'import/mixed4d_5x5_bottleneck_w',\n",
       " 'import/mixed4d_5x5_bottleneck_b',\n",
       " 'import/mixed4d_5x5_w',\n",
       " 'import/mixed4d_5x5_b',\n",
       " 'import/mixed4d_pool_reduce_w',\n",
       " 'import/mixed4d_pool_reduce_b',\n",
       " 'import/mixed4e_1x1_w',\n",
       " 'import/mixed4e_1x1_b',\n",
       " 'import/mixed4e_3x3_bottleneck_w',\n",
       " 'import/mixed4e_3x3_bottleneck_b',\n",
       " 'import/mixed4e_3x3_w',\n",
       " 'import/mixed4e_3x3_b',\n",
       " 'import/mixed4e_5x5_bottleneck_w',\n",
       " 'import/mixed4e_5x5_bottleneck_b',\n",
       " 'import/mixed4e_5x5_w',\n",
       " 'import/mixed4e_5x5_b',\n",
       " 'import/mixed4e_pool_reduce_w',\n",
       " 'import/mixed4e_pool_reduce_b',\n",
       " 'import/mixed5a_1x1_w',\n",
       " 'import/mixed5a_1x1_b',\n",
       " 'import/mixed5a_3x3_bottleneck_w',\n",
       " 'import/mixed5a_3x3_bottleneck_b',\n",
       " 'import/mixed5a_3x3_w',\n",
       " 'import/mixed5a_3x3_b',\n",
       " 'import/mixed5a_5x5_bottleneck_w',\n",
       " 'import/mixed5a_5x5_bottleneck_b',\n",
       " 'import/mixed5a_5x5_w',\n",
       " 'import/mixed5a_5x5_b',\n",
       " 'import/mixed5a_pool_reduce_w',\n",
       " 'import/mixed5a_pool_reduce_b',\n",
       " 'import/mixed5b_1x1_w',\n",
       " 'import/mixed5b_1x1_b',\n",
       " 'import/mixed5b_3x3_bottleneck_w',\n",
       " 'import/mixed5b_3x3_bottleneck_b',\n",
       " 'import/mixed5b_3x3_w',\n",
       " 'import/mixed5b_3x3_b',\n",
       " 'import/mixed5b_5x5_bottleneck_w',\n",
       " 'import/mixed5b_5x5_bottleneck_b',\n",
       " 'import/mixed5b_5x5_w',\n",
       " 'import/mixed5b_5x5_b',\n",
       " 'import/mixed5b_pool_reduce_w',\n",
       " 'import/mixed5b_pool_reduce_b',\n",
       " 'import/head0_bottleneck_w',\n",
       " 'import/head0_bottleneck_b',\n",
       " 'import/nn0_w',\n",
       " 'import/nn0_b',\n",
       " 'import/softmax0_w',\n",
       " 'import/softmax0_b',\n",
       " 'import/head1_bottleneck_w',\n",
       " 'import/head1_bottleneck_b',\n",
       " 'import/nn1_w',\n",
       " 'import/nn1_b',\n",
       " 'import/softmax1_w',\n",
       " 'import/softmax1_b',\n",
       " 'import/softmax2_w',\n",
       " 'import/softmax2_b',\n",
       " 'import/conv2d0_pre_relu/conv',\n",
       " 'import/conv2d0_pre_relu',\n",
       " 'import/conv2d0',\n",
       " 'import/maxpool0',\n",
       " 'import/localresponsenorm0',\n",
       " 'import/conv2d1_pre_relu/conv',\n",
       " 'import/conv2d1_pre_relu',\n",
       " 'import/conv2d1',\n",
       " 'import/conv2d2_pre_relu/conv',\n",
       " 'import/conv2d2_pre_relu',\n",
       " 'import/conv2d2',\n",
       " 'import/localresponsenorm1',\n",
       " 'import/maxpool1',\n",
       " 'import/mixed3a_1x1_pre_relu/conv',\n",
       " 'import/mixed3a_1x1_pre_relu',\n",
       " 'import/mixed3a_1x1',\n",
       " 'import/mixed3a_3x3_bottleneck_pre_relu/conv',\n",
       " 'import/mixed3a_3x3_bottleneck_pre_relu',\n",
       " 'import/mixed3a_3x3_bottleneck',\n",
       " 'import/mixed3a_3x3_pre_relu/conv',\n",
       " 'import/mixed3a_3x3_pre_relu',\n",
       " 'import/mixed3a_3x3',\n",
       " 'import/mixed3a_5x5_bottleneck_pre_relu/conv',\n",
       " 'import/mixed3a_5x5_bottleneck_pre_relu',\n",
       " 'import/mixed3a_5x5_bottleneck',\n",
       " 'import/mixed3a_5x5_pre_relu/conv',\n",
       " 'import/mixed3a_5x5_pre_relu',\n",
       " 'import/mixed3a_5x5',\n",
       " 'import/mixed3a_pool',\n",
       " 'import/mixed3a_pool_reduce_pre_relu/conv',\n",
       " 'import/mixed3a_pool_reduce_pre_relu',\n",
       " 'import/mixed3a_pool_reduce',\n",
       " 'import/mixed3a/concat_dim',\n",
       " 'import/mixed3a',\n",
       " 'import/mixed3b_1x1_pre_relu/conv',\n",
       " 'import/mixed3b_1x1_pre_relu',\n",
       " 'import/mixed3b_1x1',\n",
       " 'import/mixed3b_3x3_bottleneck_pre_relu/conv',\n",
       " 'import/mixed3b_3x3_bottleneck_pre_relu',\n",
       " 'import/mixed3b_3x3_bottleneck',\n",
       " 'import/mixed3b_3x3_pre_relu/conv',\n",
       " 'import/mixed3b_3x3_pre_relu',\n",
       " 'import/mixed3b_3x3',\n",
       " 'import/mixed3b_5x5_bottleneck_pre_relu/conv',\n",
       " 'import/mixed3b_5x5_bottleneck_pre_relu',\n",
       " 'import/mixed3b_5x5_bottleneck',\n",
       " 'import/mixed3b_5x5_pre_relu/conv',\n",
       " 'import/mixed3b_5x5_pre_relu',\n",
       " 'import/mixed3b_5x5',\n",
       " 'import/mixed3b_pool',\n",
       " 'import/mixed3b_pool_reduce_pre_relu/conv',\n",
       " 'import/mixed3b_pool_reduce_pre_relu',\n",
       " 'import/mixed3b_pool_reduce',\n",
       " 'import/mixed3b/concat_dim',\n",
       " 'import/mixed3b',\n",
       " 'import/maxpool4',\n",
       " 'import/mixed4a_1x1_pre_relu/conv',\n",
       " 'import/mixed4a_1x1_pre_relu',\n",
       " 'import/mixed4a_1x1',\n",
       " 'import/mixed4a_3x3_bottleneck_pre_relu/conv',\n",
       " 'import/mixed4a_3x3_bottleneck_pre_relu',\n",
       " 'import/mixed4a_3x3_bottleneck',\n",
       " 'import/mixed4a_3x3_pre_relu/conv',\n",
       " 'import/mixed4a_3x3_pre_relu',\n",
       " 'import/mixed4a_3x3',\n",
       " 'import/mixed4a_5x5_bottleneck_pre_relu/conv',\n",
       " 'import/mixed4a_5x5_bottleneck_pre_relu',\n",
       " 'import/mixed4a_5x5_bottleneck',\n",
       " 'import/mixed4a_5x5_pre_relu/conv',\n",
       " 'import/mixed4a_5x5_pre_relu',\n",
       " 'import/mixed4a_5x5',\n",
       " 'import/mixed4a_pool',\n",
       " 'import/mixed4a_pool_reduce_pre_relu/conv',\n",
       " 'import/mixed4a_pool_reduce_pre_relu',\n",
       " 'import/mixed4a_pool_reduce',\n",
       " 'import/mixed4a/concat_dim',\n",
       " 'import/mixed4a',\n",
       " 'import/mixed4b_1x1_pre_relu/conv',\n",
       " 'import/mixed4b_1x1_pre_relu',\n",
       " 'import/mixed4b_1x1',\n",
       " 'import/mixed4b_3x3_bottleneck_pre_relu/conv',\n",
       " 'import/mixed4b_3x3_bottleneck_pre_relu',\n",
       " 'import/mixed4b_3x3_bottleneck',\n",
       " 'import/mixed4b_3x3_pre_relu/conv',\n",
       " 'import/mixed4b_3x3_pre_relu',\n",
       " 'import/mixed4b_3x3',\n",
       " 'import/mixed4b_5x5_bottleneck_pre_relu/conv',\n",
       " 'import/mixed4b_5x5_bottleneck_pre_relu',\n",
       " 'import/mixed4b_5x5_bottleneck',\n",
       " 'import/mixed4b_5x5_pre_relu/conv',\n",
       " 'import/mixed4b_5x5_pre_relu',\n",
       " 'import/mixed4b_5x5',\n",
       " 'import/mixed4b_pool',\n",
       " 'import/mixed4b_pool_reduce_pre_relu/conv',\n",
       " 'import/mixed4b_pool_reduce_pre_relu',\n",
       " 'import/mixed4b_pool_reduce',\n",
       " 'import/mixed4b/concat_dim',\n",
       " 'import/mixed4b',\n",
       " 'import/mixed4c_1x1_pre_relu/conv',\n",
       " 'import/mixed4c_1x1_pre_relu',\n",
       " 'import/mixed4c_1x1',\n",
       " 'import/mixed4c_3x3_bottleneck_pre_relu/conv',\n",
       " 'import/mixed4c_3x3_bottleneck_pre_relu',\n",
       " 'import/mixed4c_3x3_bottleneck',\n",
       " 'import/mixed4c_3x3_pre_relu/conv',\n",
       " 'import/mixed4c_3x3_pre_relu',\n",
       " 'import/mixed4c_3x3',\n",
       " 'import/mixed4c_5x5_bottleneck_pre_relu/conv',\n",
       " 'import/mixed4c_5x5_bottleneck_pre_relu',\n",
       " 'import/mixed4c_5x5_bottleneck',\n",
       " 'import/mixed4c_5x5_pre_relu/conv',\n",
       " 'import/mixed4c_5x5_pre_relu',\n",
       " 'import/mixed4c_5x5',\n",
       " 'import/mixed4c_pool',\n",
       " 'import/mixed4c_pool_reduce_pre_relu/conv',\n",
       " 'import/mixed4c_pool_reduce_pre_relu',\n",
       " 'import/mixed4c_pool_reduce',\n",
       " 'import/mixed4c/concat_dim',\n",
       " 'import/mixed4c',\n",
       " 'import/mixed4d_1x1_pre_relu/conv',\n",
       " 'import/mixed4d_1x1_pre_relu',\n",
       " 'import/mixed4d_1x1',\n",
       " 'import/mixed4d_3x3_bottleneck_pre_relu/conv',\n",
       " 'import/mixed4d_3x3_bottleneck_pre_relu',\n",
       " 'import/mixed4d_3x3_bottleneck',\n",
       " 'import/mixed4d_3x3_pre_relu/conv',\n",
       " 'import/mixed4d_3x3_pre_relu',\n",
       " 'import/mixed4d_3x3',\n",
       " 'import/mixed4d_5x5_bottleneck_pre_relu/conv',\n",
       " 'import/mixed4d_5x5_bottleneck_pre_relu',\n",
       " 'import/mixed4d_5x5_bottleneck',\n",
       " 'import/mixed4d_5x5_pre_relu/conv',\n",
       " 'import/mixed4d_5x5_pre_relu',\n",
       " 'import/mixed4d_5x5',\n",
       " 'import/mixed4d_pool',\n",
       " 'import/mixed4d_pool_reduce_pre_relu/conv',\n",
       " 'import/mixed4d_pool_reduce_pre_relu',\n",
       " 'import/mixed4d_pool_reduce',\n",
       " 'import/mixed4d/concat_dim',\n",
       " 'import/mixed4d',\n",
       " 'import/mixed4e_1x1_pre_relu/conv',\n",
       " 'import/mixed4e_1x1_pre_relu',\n",
       " 'import/mixed4e_1x1',\n",
       " 'import/mixed4e_3x3_bottleneck_pre_relu/conv',\n",
       " 'import/mixed4e_3x3_bottleneck_pre_relu',\n",
       " 'import/mixed4e_3x3_bottleneck',\n",
       " 'import/mixed4e_3x3_pre_relu/conv',\n",
       " 'import/mixed4e_3x3_pre_relu',\n",
       " 'import/mixed4e_3x3',\n",
       " 'import/mixed4e_5x5_bottleneck_pre_relu/conv',\n",
       " 'import/mixed4e_5x5_bottleneck_pre_relu',\n",
       " 'import/mixed4e_5x5_bottleneck',\n",
       " 'import/mixed4e_5x5_pre_relu/conv',\n",
       " 'import/mixed4e_5x5_pre_relu',\n",
       " 'import/mixed4e_5x5',\n",
       " 'import/mixed4e_pool',\n",
       " 'import/mixed4e_pool_reduce_pre_relu/conv',\n",
       " 'import/mixed4e_pool_reduce_pre_relu',\n",
       " 'import/mixed4e_pool_reduce',\n",
       " 'import/mixed4e/concat_dim',\n",
       " 'import/mixed4e',\n",
       " 'import/maxpool10',\n",
       " 'import/mixed5a_1x1_pre_relu/conv',\n",
       " 'import/mixed5a_1x1_pre_relu',\n",
       " 'import/mixed5a_1x1',\n",
       " 'import/mixed5a_3x3_bottleneck_pre_relu/conv',\n",
       " 'import/mixed5a_3x3_bottleneck_pre_relu',\n",
       " 'import/mixed5a_3x3_bottleneck',\n",
       " 'import/mixed5a_3x3_pre_relu/conv',\n",
       " 'import/mixed5a_3x3_pre_relu',\n",
       " 'import/mixed5a_3x3',\n",
       " 'import/mixed5a_5x5_bottleneck_pre_relu/conv',\n",
       " 'import/mixed5a_5x5_bottleneck_pre_relu',\n",
       " 'import/mixed5a_5x5_bottleneck',\n",
       " 'import/mixed5a_5x5_pre_relu/conv',\n",
       " 'import/mixed5a_5x5_pre_relu',\n",
       " 'import/mixed5a_5x5',\n",
       " 'import/mixed5a_pool',\n",
       " 'import/mixed5a_pool_reduce_pre_relu/conv',\n",
       " 'import/mixed5a_pool_reduce_pre_relu',\n",
       " 'import/mixed5a_pool_reduce',\n",
       " 'import/mixed5a/concat_dim',\n",
       " 'import/mixed5a',\n",
       " 'import/mixed5b_1x1_pre_relu/conv',\n",
       " 'import/mixed5b_1x1_pre_relu',\n",
       " 'import/mixed5b_1x1',\n",
       " 'import/mixed5b_3x3_bottleneck_pre_relu/conv',\n",
       " 'import/mixed5b_3x3_bottleneck_pre_relu',\n",
       " 'import/mixed5b_3x3_bottleneck',\n",
       " 'import/mixed5b_3x3_pre_relu/conv',\n",
       " 'import/mixed5b_3x3_pre_relu',\n",
       " 'import/mixed5b_3x3',\n",
       " 'import/mixed5b_5x5_bottleneck_pre_relu/conv',\n",
       " 'import/mixed5b_5x5_bottleneck_pre_relu',\n",
       " 'import/mixed5b_5x5_bottleneck',\n",
       " 'import/mixed5b_5x5_pre_relu/conv',\n",
       " 'import/mixed5b_5x5_pre_relu',\n",
       " 'import/mixed5b_5x5',\n",
       " 'import/mixed5b_pool',\n",
       " 'import/mixed5b_pool_reduce_pre_relu/conv',\n",
       " 'import/mixed5b_pool_reduce_pre_relu',\n",
       " 'import/mixed5b_pool_reduce',\n",
       " 'import/mixed5b/concat_dim',\n",
       " 'import/mixed5b',\n",
       " 'import/avgpool0',\n",
       " 'import/head0_pool',\n",
       " 'import/head0_bottleneck_pre_relu/conv',\n",
       " 'import/head0_bottleneck_pre_relu',\n",
       " 'import/head0_bottleneck',\n",
       " 'import/head0_bottleneck/reshape/shape',\n",
       " 'import/head0_bottleneck/reshape',\n",
       " 'import/nn0_pre_relu/matmul',\n",
       " 'import/nn0_pre_relu',\n",
       " 'import/nn0',\n",
       " 'import/nn0/reshape/shape',\n",
       " 'import/nn0/reshape',\n",
       " 'import/softmax0_pre_activation/matmul',\n",
       " 'import/softmax0_pre_activation',\n",
       " 'import/softmax0',\n",
       " 'import/head1_pool',\n",
       " 'import/head1_bottleneck_pre_relu/conv',\n",
       " 'import/head1_bottleneck_pre_relu',\n",
       " 'import/head1_bottleneck',\n",
       " 'import/head1_bottleneck/reshape/shape',\n",
       " 'import/head1_bottleneck/reshape',\n",
       " 'import/nn1_pre_relu/matmul',\n",
       " 'import/nn1_pre_relu',\n",
       " 'import/nn1',\n",
       " 'import/nn1/reshape/shape',\n",
       " 'import/nn1/reshape',\n",
       " 'import/softmax1_pre_activation/matmul',\n",
       " 'import/softmax1_pre_activation',\n",
       " 'import/softmax1',\n",
       " 'import/avgpool0/reshape/shape',\n",
       " 'import/avgpool0/reshape',\n",
       " 'import/softmax2_pre_activation/matmul',\n",
       " 'import/softmax2_pre_activation',\n",
       " 'import/softmax2',\n",
       " 'import/output',\n",
       " 'import/output1',\n",
       " 'import/output2']"
      ]
     },
     "execution_count": 38,
     "metadata": {},
     "output_type": "execute_result"
    }
   ],
   "source": [
    "layers"
   ]
  },
  {
   "cell_type": "code",
   "execution_count": 39,
   "metadata": {
    "collapsed": false
   },
   "outputs": [],
   "source": [
    "neuron_i = 994\n",
    "#print(net['labels'][neuron_i])"
   ]
  },
  {
   "cell_type": "code",
   "execution_count": 40,
   "metadata": {
    "collapsed": false
   },
   "outputs": [],
   "source": [
    "#layers"
   ]
  },
  {
   "cell_type": "markdown",
   "metadata": {
    "colab_type": "text",
    "id": "6LXaGEJkQgk4"
   },
   "source": [
    "Let's start with a naive way of visualizing these. Image-space gradient ascent!"
   ]
  },
  {
   "cell_type": "code",
   "execution_count": 48,
   "metadata": {
    "collapsed": false
   },
   "outputs": [],
   "source": [
    "# Picking some internal layer. Note that we use outputs before applying the ReLU nonlinearity\n",
    "# to have non-zero gradients for features with negative initial activations.\n",
    "layer = 'output2'\n",
    "channel = 139 # picking some feature channel to visualize\n",
    "\n",
    "# start with a gray image with a little noise\n",
    "img_noise = np.random.uniform(size=(224,224,3)) + 100.0\n",
    "\n",
    "def showarray(a, fmt='jpeg'):\n",
    "    a = np.uint8(np.clip(a, 0, 1)*255)\n",
    "    f = BytesIO()\n",
    "    PIL.Image.fromarray(a).save(f, fmt)\n",
    "    display(Image(data=f.getvalue()))\n",
    "    \n",
    "def visstd(a, s=0.1):\n",
    "    '''Normalize the image range for visualization'''\n",
    "    return (a-a.mean())/max(a.std(), 1e-4)*s + 0.5\n",
    "\n",
    "def T(layer):\n",
    "    '''Helper for getting layer output tensor'''\n",
    "    return graph.get_tensor_by_name(\"import/%s:0\"%layer)\n",
    "\n",
    "def render_naive(t_obj, img0=img_noise, iter_n=100, step=100.0):\n",
    "    t_score = tf.reduce_mean(t_obj) # defining the optimization objective\n",
    "    t_grad = tf.gradients(t_score, t_input)[0] # behold the power of automatic differentiation!\n",
    "    \n",
    "    img = img0.copy()\n",
    "    for i in range(iter_n):\n",
    "        g, score = sess.run([t_grad, t_score], {t_input:img})\n",
    "        # normalizing the gradient, so the same step size should work \n",
    "        g /= g.std()+1e-8         # for different layers and networks\n",
    "        img += g*step\n",
    "        print(score, end = ' ')\n",
    "    clear_output()\n",
    "    showarray(visstd(img))\n",
    "\n",
    "#render_naive(T('softmax2')[0, 240])"
   ]
  },
  {
   "cell_type": "code",
   "execution_count": 42,
   "metadata": {
    "cellView": "both",
    "colab": {
     "autoexec": {
      "startup": false,
      "wait_interval": 0
     },
     "output_extras": [
      {
       "item_id": 1
      }
     ]
    },
    "colab_type": "code",
    "collapsed": false,
    "executionInfo": {
     "elapsed": 464,
     "status": "ok",
     "timestamp": 1457963844162,
     "user": {
      "color": "#1FA15D",
      "displayName": "Alexander Mordvintsev",
      "isAnonymous": false,
      "isMe": true,
      "permissionId": "12341152118244997759",
      "photoUrl": "https://lh3.googleusercontent.com/-XdUIqdMkCWA/AAAAAAAAAAI/AAAAAAAAAAA/4252rscbv5M/s128/photo.jpg",
      "sessionId": "1269ead540f76ce5",
      "userId": "108092561333339272254"
     },
     "user_tz": -60
    },
    "id": "2iwWSOgsQglG",
    "outputId": "221dae81-914b-4167-eb49-26ef2d431a66",
    "scrolled": false
   },
   "outputs": [],
   "source": [
    "def tffunc(*argtypes):\n",
    "    '''Helper that transforms TF-graph generating function into a regular one.\n",
    "    See \"resize\" function below.\n",
    "    '''\n",
    "    placeholders = list(map(tf.placeholder, argtypes))\n",
    "    def wrap(f):\n",
    "        out = f(*placeholders)\n",
    "        def wrapper(*args, **kw):\n",
    "            return out.eval(dict(zip(placeholders, args)), session=kw.get('session'))\n",
    "        return wrapper\n",
    "    return wrap\n",
    "\n",
    "# Helper function that uses TF to resize an image\n",
    "def resize(img, size):\n",
    "    img = tf.expand_dims(img, 0)\n",
    "    return tf.image.resize_bilinear(img, size)[0,:,:,:]\n",
    "resize = tffunc(np.float32, np.int32)(resize)\n",
    "\n",
    "\n",
    "def calc_grad_tiled(img, t_grad, layer_vec, t_obj, tile_size=512):\n",
    "    '''Compute the value of tensor t_grad over the image in a tiled way.\n",
    "    Random shifts are applied to the image to blur tile boundaries over \n",
    "    multiple iterations.'''\n",
    "    sz = tile_size\n",
    "    h, w = img.shape[:2]\n",
    "    sx, sy = np.random.randint(sz, size=2)\n",
    "    img_shift = np.roll(np.roll(img, sx, 1), sy, 0)\n",
    "    grad = np.zeros_like(img)\n",
    "    for y in range(0, max(h-sz//2, sz),sz):\n",
    "        for x in range(0, max(w-sz//2, sz),sz):\n",
    "            sub = img_shift[y:y+sz,x:x+sz]\n",
    "            g = sess.run(t_grad, {t_input:sub, t_obj:layer_vec})\n",
    "            grad[y:y+sz,x:x+sz] = g\n",
    "    return np.roll(np.roll(grad, -sx, 1), -sy, 0)"
   ]
  },
  {
   "cell_type": "code",
   "execution_count": 43,
   "metadata": {
    "cellView": "both",
    "colab": {
     "autoexec": {
      "startup": false,
      "wait_interval": 0
     },
     "output_extras": [
      {
       "item_id": 1
      },
      {
       "item_id": 2
      }
     ]
    },
    "colab_type": "code",
    "collapsed": false,
    "executionInfo": {
     "elapsed": 127,
     "status": "ok",
     "timestamp": 1457963487829,
     "user": {
      "color": "#1FA15D",
      "displayName": "Alexander Mordvintsev",
      "isAnonymous": false,
      "isMe": true,
      "permissionId": "12341152118244997759",
      "photoUrl": "https://lh3.googleusercontent.com/-XdUIqdMkCWA/AAAAAAAAAAI/AAAAAAAAAAA/4252rscbv5M/s128/photo.jpg",
      "sessionId": "1269ead540f76ce5",
      "userId": "108092561333339272254"
     },
     "user_tz": -60
    },
    "id": "GRCJdG8gQglN",
    "outputId": "7e21352d-9131-4f81-a52f-912b2e299475",
    "scrolled": false
   },
   "outputs": [],
   "source": [
    "def render_multiscale(t_obj, img0=img_noise, iter_n=1, step=1.0, octave_n=3, octave_scale=1.4):\n",
    "    img = img0.copy()\n",
    "    t_score = tf.reduce_max(t_obj) # defining the optimization objective\n",
    "    t_grad = tf.gradients(t_score, t_input)[0] # behold the power of automatic differentiation!\n",
    "    layer_shape = tf.shape(t_obj).eval(feed_dict={t_input: img})\n",
    "    layer_vec = np.zeros(layer_shape)\n",
    "    layer_vec[..., 200] = 1\n",
    "    \n",
    "    for octave in range(octave_n):\n",
    "        if octave>0:\n",
    "            hw = np.float32(img.shape[:2])*octave_scale\n",
    "            img = resize(img, np.int32(hw))\n",
    "        for i in range(iter_n):\n",
    "            g = calc_grad_tiled(img, t_grad, layer_vec, t_obj)\n",
    "            # normalizing the gradient, so the same step size should work \n",
    "            g /= g.std()+1e-8         # for different layers and networks\n",
    "            img += g*step\n",
    "            print('.', end = ' ')\n",
    "        clear_output()\n",
    "        showarray(visstd(img))\n",
    "\n",
    "#render_multiscale(T(layer))"
   ]
  },
  {
   "cell_type": "code",
   "execution_count": null,
   "metadata": {
    "collapsed": false
   },
   "outputs": [],
   "source": []
  },
  {
   "cell_type": "code",
   "execution_count": 44,
   "metadata": {
    "collapsed": false
   },
   "outputs": [],
   "source": [
    "#T('output2')"
   ]
  },
  {
   "cell_type": "markdown",
   "metadata": {
    "colab_type": "text",
    "id": "mDSZMtVYQglV"
   },
   "source": [
    "<a id=\"laplacian\"></a>\n",
    "## Laplacian Pyramid Gradient Normalization\n",
    "\n",
    "This looks better, but the resulting images mostly contain high frequencies. Can we improve it? One way is to add a smoothness prior into the optimization objective. This will effectively blur the image a little every iteration, suppressing the higher frequencies, so that the lower frequencies can catch up. This will require more iterations to produce a nice image. Why don't we just boost lower frequencies of the gradient instead? One way to achieve this is through the [Laplacian pyramid](https://en.wikipedia.org/wiki/Pyramid_%28image_processing%29#Laplacian_pyramid) decomposition. We call the resulting technique _Laplacian Pyramid Gradient Normalization_."
   ]
  },
  {
   "cell_type": "code",
   "execution_count": 45,
   "metadata": {
    "cellView": "both",
    "colab": {
     "autoexec": {
      "startup": false,
      "wait_interval": 0
     },
     "output_extras": [
      {
       "item_id": 1
      }
     ]
    },
    "colab_type": "code",
    "collapsed": false,
    "executionInfo": {
     "elapsed": 512,
     "status": "ok",
     "timestamp": 1457963876373,
     "user": {
      "color": "#1FA15D",
      "displayName": "Alexander Mordvintsev",
      "isAnonymous": false,
      "isMe": true,
      "permissionId": "12341152118244997759",
      "photoUrl": "https://lh3.googleusercontent.com/-XdUIqdMkCWA/AAAAAAAAAAI/AAAAAAAAAAA/4252rscbv5M/s128/photo.jpg",
      "sessionId": "1269ead540f76ce5",
      "userId": "108092561333339272254"
     },
     "user_tz": -60
    },
    "id": "Do3WpFSUQglX",
    "outputId": "99835b80-ed6f-47a5-85c3-c77bd55d7b17",
    "scrolled": false
   },
   "outputs": [],
   "source": [
    "k = np.float32([1,4,6,4,1])\n",
    "k = np.outer(k, k)\n",
    "k5x5 = k[:,:,None,None]/k.sum()*np.eye(3, dtype=np.float32)\n",
    "\n",
    "def lap_split(img):\n",
    "    '''Split the image into lo and hi frequency components'''\n",
    "    with tf.name_scope('split'):\n",
    "        lo = tf.nn.conv2d(img, k5x5, [1,2,2,1], 'SAME')\n",
    "        lo2 = tf.nn.conv2d_transpose(lo, k5x5*4, tf.shape(img), [1,2,2,1])\n",
    "        hi = img-lo2\n",
    "    return lo, hi\n",
    "\n",
    "def lap_split_n(img, n):\n",
    "    '''Build Laplacian pyramid with n splits'''\n",
    "    levels = []\n",
    "    for i in range(n):\n",
    "        img, hi = lap_split(img)\n",
    "        levels.append(hi)\n",
    "    levels.append(img)\n",
    "    return levels[::-1]\n",
    "\n",
    "def lap_merge(levels):\n",
    "    '''Merge Laplacian pyramid'''\n",
    "    img = levels[0]\n",
    "    for hi in levels[1:]:\n",
    "        with tf.name_scope('merge'):\n",
    "            img = tf.nn.conv2d_transpose(img, k5x5*4, tf.shape(hi), [1,2,2,1]) + hi\n",
    "    return img\n",
    "\n",
    "def normalize_std(img, eps=1e-10):\n",
    "    '''Normalize image by making its standard deviation = 1.0'''\n",
    "    with tf.name_scope('normalize'):\n",
    "        std = tf.sqrt(tf.reduce_mean(tf.square(img)))\n",
    "        return img/tf.maximum(std, eps)\n",
    "\n",
    "def lap_normalize(img, scale_n=4):\n",
    "    '''Perform the Laplacian pyramid normalization.'''\n",
    "    img = tf.expand_dims(img,0)\n",
    "    tlevels = lap_split_n(img, scale_n)\n",
    "    tlevels = list(map(normalize_std, tlevels))\n",
    "    out = lap_merge(tlevels)\n",
    "    return out[0,:,:,:]\n",
    "\n",
    "# Showing the lap_normalize graph with TensorBoard\n",
    "lap_graph = tf.Graph()\n",
    "with lap_graph.as_default():\n",
    "    lap_in = tf.placeholder(np.float32, name='lap_in')\n",
    "    lap_out = lap_normalize(lap_in)\n",
    "#show_graph(lap_graph)"
   ]
  },
  {
   "cell_type": "code",
   "execution_count": 46,
   "metadata": {
    "collapsed": true
   },
   "outputs": [],
   "source": [
    "from scipy.ndimage.filters import gaussian_filter\n",
    "# Which we'll smooth with a standard deviation of 1.0\n",
    "sigma = 1\n",
    "\n",
    "# And we'll smooth it every 4 iterations\n",
    "blur_step = 4\n",
    "pth = 5\n",
    "decay = 0.998\n",
    "gif_step = 10"
   ]
  },
  {
   "cell_type": "code",
   "execution_count": null,
   "metadata": {
    "cellView": "both",
    "colab": {
     "autoexec": {
      "startup": false,
      "wait_interval": 0
     },
     "output_extras": [
      {
       "item_id": 1
      },
      {
       "item_id": 2
      }
     ]
    },
    "colab_type": "code",
    "collapsed": false,
    "executionInfo": {
     "elapsed": 17273,
     "status": "ok",
     "timestamp": 1457964054088,
     "user": {
      "color": "#1FA15D",
      "displayName": "Alexander Mordvintsev",
      "isAnonymous": false,
      "isMe": true,
      "permissionId": "12341152118244997759",
      "photoUrl": "https://lh3.googleusercontent.com/-XdUIqdMkCWA/AAAAAAAAAAI/AAAAAAAAAAA/4252rscbv5M/s128/photo.jpg",
      "sessionId": "1269ead540f76ce5",
      "userId": "108092561333339272254"
     },
     "user_tz": -60
    },
    "id": "zj8Ms-WqQgla",
    "outputId": "aa54c6c3-bf38-4054-f3f4-a5c82218e251",
    "scrolled": false
   },
   "outputs": [
    {
     "data": {
      "image/jpeg": "[encoded data removed]",
      "text/plain": [
       "<IPython.core.display.Image object>"
      ]
     },
     "metadata": {},
     "output_type": "display_data"
    },
    {
     "data": {
      "text/plain": [
       "array([[[[ 110.35447036,  119.84206217,  101.38564757],\n",
       "         [ 100.76810212,  118.5582846 ,  100.3800934 ],\n",
       "         [ 103.0719005 ,   95.51044181,  101.79267824],\n",
       "         ..., \n",
       "         [  98.38268191,   83.35342548,   94.1870286 ],\n",
       "         [  92.97368148,  115.99370215,   93.64939449],\n",
       "         [  96.73112911,  123.42630657,  100.05486467]],\n",
       "\n",
       "        [[ 103.55461233,   94.85142922,  100.22334716],\n",
       "         [  96.18505711,   92.22195064,   96.98309189],\n",
       "         [  92.65709457,   93.72595379,   99.71098823],\n",
       "         ..., \n",
       "         [ 101.13388522,   92.01907345,   96.42684923],\n",
       "         [  95.20667031,  110.85936577,   97.42107591],\n",
       "         [  95.2381641 ,  112.85518062,   93.95026073]],\n",
       "\n",
       "        [[ 101.36163035,  111.2385641 ,   97.74311395],\n",
       "         [  79.26132778,  113.29454425,   93.56990303],\n",
       "         [  78.39891345,  101.97037702,   91.98434381],\n",
       "         ..., \n",
       "         [  98.47203329,  103.06675478,   96.27111661],\n",
       "         [  96.83872594,  109.74910397,   94.91135698],\n",
       "         [ 100.06068553,  112.07100413,   94.59103952]],\n",
       "\n",
       "        ..., \n",
       "        [[ 106.90728817,  110.68835664,   96.82732077],\n",
       "         [ 111.12440729,  113.20940843,   94.91266174],\n",
       "         [ 104.5436958 ,  121.22743765,   91.382389  ],\n",
       "         ..., \n",
       "         [  94.33013443,  116.0775808 ,   89.09629286],\n",
       "         [ 100.00739   ,  117.38309211,   92.93473322],\n",
       "         [  91.35352784,  106.21108997,   92.58903065]],\n",
       "\n",
       "        [[ 103.54063488,  102.89825006,   94.71126945],\n",
       "         [ 102.57684546,  108.83855227,   93.81373151],\n",
       "         [ 111.41344535,  116.71069618,   94.51254519],\n",
       "         ..., \n",
       "         [  88.03524405,  103.27701097,   94.63365738],\n",
       "         [  81.33851188,  109.38320534,   93.55678175],\n",
       "         [  81.16195225,   99.01580416,   91.92338863]],\n",
       "\n",
       "        [[ 104.26894003,  108.59422989,   92.29853762],\n",
       "         [  99.53599575,  116.81311635,   97.1412017 ],\n",
       "         [ 107.71250186,  103.42654561,   96.5588187 ],\n",
       "         ..., \n",
       "         [  95.16989868,   91.70010196,   93.88963343],\n",
       "         [  91.77199737,  106.09631135,   97.97134487],\n",
       "         [  89.17112278,  109.45361728,   91.78533869]]]])"
      ]
     },
     "execution_count": 55,
     "metadata": {},
     "output_type": "execute_result"
    }
   ],
   "source": [
    "\n",
    "def render_lapnorm(t_obj, img0=img_noise, visfunc=visstd,\n",
    "                   iter_n=100, step=1, octave_n=1, octave_scale=1.4, lap_n=4):\n",
    "    t_score = tf.reduce_max(t_obj) # defining the optimization objective\n",
    "    t_grad = tf.gradients(t_score, t_input)[0] # behold the power of automatic differentiation!\n",
    "    # build the laplacian normalization graph\n",
    "    lap_norm_func = tffunc(np.float32)(partial(lap_normalize, scale_n=lap_n))\n",
    "\n",
    "    img = img0.copy()\n",
    "    layer_shape = tf.shape(t_obj).eval(feed_dict={t_input: img})\n",
    "    layer_vec = np.zeros(layer_shape)\n",
    "    layer_vec[..., neuron_i] = 1\n",
    "    for octave in range(octave_n):\n",
    "        if octave>0:\n",
    "            hw = np.float32(img.shape[:2])*octave_scale\n",
    "            img = resize(img, np.int32(hw))\n",
    "        for i in range(iter_n):\n",
    "            #if i % blur_step == 0:\n",
    "            #    for ch_i in range(3):\n",
    "            #        img[..., ch_i] = gaussian_filter(img[..., ch_i], sigma)\n",
    "            #mask = (abs(img) < np.percentile(abs(img), 0.9))\n",
    "            #img = img - img*mask\n",
    "            #img *= decay\n",
    "            g = calc_grad_tiled(img, t_grad, layer_vec, t_obj)\n",
    "            g = lap_norm_func(g)\n",
    "            img += g*step\n",
    "\n",
    "            \n",
    "            print('.', end = ' ')\n",
    "        clear_output()\n",
    "        #plt.figure()\n",
    "        #plt.imshow(visfunc(img))\n",
    "        showarray(visfunc(img))\n",
    "        return img[np.newaxis]\n",
    "neuron_i = 362\n",
    "render_lapnorm(T(layer))"
   ]
  },
  {
   "cell_type": "code",
   "execution_count": null,
   "metadata": {
    "collapsed": false
   },
   "outputs": [
    {
     "data": {
      "image/jpeg": "[encoded data removed]",
      "text/plain": [
       "<IPython.core.display.Image object>"
      ]
     },
     "metadata": {},
     "output_type": "display_data"
    },
    {
     "name": "stdout",
     "output_type": "stream",
     "text": [
      "11, "
     ]
    }
   ],
   "source": [
    "from skimage.transform import resize\n",
    "from libs import gif, nb_utils\n",
    "\n",
    "img_copy = img_noise.copy()\n",
    "img_copy = img_copy[np.newaxis]\n",
    "crop = 1\n",
    "n_iterations = 50\n",
    "imgs = []\n",
    "n_img, height, width, ch = img_copy.shape\n",
    "for it_i in range(n_iterations):\n",
    "    print(it_i, end=', ')\n",
    "    \n",
    "    img_copy = render_lapnorm(T(layer), img0=img_copy[0])\n",
    "    # Crop a 1 pixel border from height and width\n",
    "    img_copy = img_copy[:, crop:-crop, crop:-crop, :]\n",
    "\n",
    "    # Resize (Note: in the lecture, we used scipy's resize which\n",
    "    # could not resize images outside of 0-1 range, and so we had\n",
    "    # to store the image ranges.  This is a much simpler resize\n",
    "    # method that allows us to `preserve_range`.)\n",
    "    img_copy = resize(img_copy[0], (height, width), order=3,\n",
    "                 clip=False, preserve_range=True\n",
    "                 )[np.newaxis].astype(np.float32)\n",
    "\n",
    "    if it_i % gif_step == 0:\n",
    "\n",
    "        imgs.append(visstd(img_copy[0]))\n",
    "\n",
    "gif.build_gif(imgs, saveto='6-fractal.gif')"
   ]
  },
  {
   "cell_type": "code",
   "execution_count": 143,
   "metadata": {
    "collapsed": false
   },
   "outputs": [
    {
     "data": {
      "text/html": [
       "<img src=\"6-fractal-2.gif\" width=\"300\" height=\"300\"/>"
      ],
      "text/plain": [
       "<IPython.core.display.Image object>"
      ]
     },
     "execution_count": 143,
     "metadata": {},
     "output_type": "execute_result"
    }
   ],
   "source": [
    "import IPython.display as ipyd\n",
    "ipyd.Image(url='6-fractal-2.gif', height=300, width=300)"
   ]
  },
  {
   "cell_type": "markdown",
   "metadata": {
    "colab_type": "text",
    "id": "lcPe-ZMv0dYR"
   },
   "source": [
    "<a id=\"deepdream\"></a>\n",
    "## DeepDream\n",
    "\n",
    "Now let's reproduce the [DeepDream algorithm](https://github.com/google/deepdream/blob/master/dream.ipynb) with TensorFlow. \n"
   ]
  },
  {
   "cell_type": "code",
   "execution_count": null,
   "metadata": {
    "cellView": "both",
    "colab": {
     "autoexec": {
      "startup": false,
      "wait_interval": 0
     },
     "output_extras": []
    },
    "colab_type": "code",
    "collapsed": true,
    "executionInfo": {
     "elapsed": 465,
     "status": "ok",
     "timestamp": 1457967388369,
     "user": {
      "color": "#1FA15D",
      "displayName": "Alexander Mordvintsev",
      "isAnonymous": false,
      "isMe": true,
      "permissionId": "12341152118244997759",
      "photoUrl": "https://lh3.googleusercontent.com/-XdUIqdMkCWA/AAAAAAAAAAI/AAAAAAAAAAA/4252rscbv5M/s128/photo.jpg",
      "sessionId": "1269ead540f76ce5",
      "userId": "108092561333339272254"
     },
     "user_tz": -60
    },
    "id": "qM2U_96hyUwN",
    "outputId": "3725acc2-51cc-4894-e726-87bfe5727342",
    "scrolled": false
   },
   "outputs": [],
   "source": [
    "def render_deepdream(t_obj, img0=img_noise,\n",
    "                     iter_n=10, step=1.5, octave_n=4, octave_scale=1.4):\n",
    "    t_score = tf.reduce_mean(t_obj) # defining the optimization objective\n",
    "    t_grad = tf.gradients(t_score, t_input)[0] # behold the power of automatic differentiation!\n",
    "\n",
    "    # split the image into a number of octaves\n",
    "    img = img0\n",
    "    octaves = []\n",
    "    for i in range(octave_n-1):\n",
    "        hw = img.shape[:2]\n",
    "        lo = resize(img, np.int32(np.float32(hw)/octave_scale))\n",
    "        hi = img-resize(lo, hw)\n",
    "        img = lo\n",
    "        octaves.append(hi)\n",
    "    \n",
    "    # generate details octave by octave\n",
    "    for octave in range(octave_n):\n",
    "        if octave>0:\n",
    "            hi = octaves[-octave]\n",
    "            img = resize(img, hi.shape[:2])+hi\n",
    "        for i in range(iter_n):\n",
    "            g = calc_grad_tiled(img, t_grad)\n",
    "            img += g*(step / (np.abs(g).mean()+1e-7))\n",
    "            print('.',end = ' ')\n",
    "        clear_output()\n",
    "        showarray(img/255.0)"
   ]
  },
  {
   "cell_type": "markdown",
   "metadata": {},
   "source": [
    "Let's load some image and populate it with DogSlugs (in case you've missed them)."
   ]
  },
  {
   "cell_type": "code",
   "execution_count": null,
   "metadata": {
    "cellView": "both",
    "colab": {
     "autoexec": {
      "startup": false,
      "wait_interval": 0
     },
     "output_extras": [
      {
       "item_id": 1
      }
     ]
    },
    "colab_type": "code",
    "collapsed": false,
    "executionInfo": {
     "elapsed": 600,
     "status": "ok",
     "timestamp": 1457967452116,
     "user": {
      "color": "#1FA15D",
      "displayName": "Alexander Mordvintsev",
      "isAnonymous": false,
      "isMe": true,
      "permissionId": "12341152118244997759",
      "photoUrl": "https://lh3.googleusercontent.com/-XdUIqdMkCWA/AAAAAAAAAAI/AAAAAAAAAAA/4252rscbv5M/s128/photo.jpg",
      "sessionId": "1269ead540f76ce5",
      "userId": "108092561333339272254"
     },
     "user_tz": -60
    },
    "id": "M9_vOh_2Qgl-",
    "outputId": "eef01469-fb9b-4242-f249-e81383bf0433",
    "scrolled": false
   },
   "outputs": [],
   "source": [
    "img0 = PIL.Image.open('pilatus800.jpg')\n",
    "img0 = np.float32(img0)\n",
    "showarray(img0/255.0)"
   ]
  },
  {
   "cell_type": "code",
   "execution_count": null,
   "metadata": {
    "cellView": "both",
    "colab": {
     "autoexec": {
      "startup": false,
      "wait_interval": 0
     },
     "output_extras": [
      {
       "item_id": 1
      },
      {
       "item_id": 2
      }
     ]
    },
    "colab_type": "code",
    "collapsed": false,
    "executionInfo": {
     "elapsed": 79,
     "status": "ok",
     "timestamp": 1457967471615,
     "user": {
      "color": "#1FA15D",
      "displayName": "Alexander Mordvintsev",
      "isAnonymous": false,
      "isMe": true,
      "permissionId": "12341152118244997759",
      "photoUrl": "https://lh3.googleusercontent.com/-XdUIqdMkCWA/AAAAAAAAAAI/AAAAAAAAAAA/4252rscbv5M/s128/photo.jpg",
      "sessionId": "1269ead540f76ce5",
      "userId": "108092561333339272254"
     },
     "user_tz": -60
    },
    "id": "k0oggbGEeC3U",
    "outputId": "c7258412-9cb1-4a94-d4f5-e6120a728c85",
    "scrolled": false
   },
   "outputs": [],
   "source": [
    "render_deepdream(tf.square(T('mixed4c')), img0)"
   ]
  },
  {
   "cell_type": "markdown",
   "metadata": {
    "colab_type": "text",
    "id": "IJzvhEFxpB7E"
   },
   "source": [
    "Note that results can differ from the [Caffe](https://github.com/BVLC/caffe)'s implementation, as we are using an independently trained network. Still, the network seems to like dogs and animal-like features due to the nature of the ImageNet dataset.\n",
    "\n",
    "Using an arbitrary optimization objective still works:"
   ]
  },
  {
   "cell_type": "code",
   "execution_count": null,
   "metadata": {
    "cellView": "both",
    "colab": {
     "autoexec": {
      "startup": false,
      "wait_interval": 0
     },
     "output_extras": [
      {
       "item_id": 1
      },
      {
       "item_id": 2
      }
     ]
    },
    "colab_type": "code",
    "collapsed": false,
    "executionInfo": {
     "elapsed": 114,
     "status": "ok",
     "timestamp": 1457967665541,
     "user": {
      "color": "#1FA15D",
      "displayName": "Alexander Mordvintsev",
      "isAnonymous": false,
      "isMe": true,
      "permissionId": "12341152118244997759",
      "photoUrl": "https://lh3.googleusercontent.com/-XdUIqdMkCWA/AAAAAAAAAAI/AAAAAAAAAAA/4252rscbv5M/s128/photo.jpg",
      "sessionId": "1269ead540f76ce5",
      "userId": "108092561333339272254"
     },
     "user_tz": -60
    },
    "id": "4GexZuwJdDmu",
    "outputId": "f140b073-7129-4889-f240-3d0e00530ada",
    "scrolled": false
   },
   "outputs": [],
   "source": [
    "render_deepdream(T(layer)[:,:,:,139], img0)"
   ]
  },
  {
   "cell_type": "markdown",
   "metadata": {
    "colab_type": "text",
    "id": "mYsY6_Ngpfwl"
   },
   "source": [
    "Don't hesitate to use higher resolution inputs (also increase the number of octaves)! Here is an [example](http://storage.googleapis.com/deepdream/pilatus_flowers.jpg) of running the flower dream over the bigger image."
   ]
  },
  {
   "cell_type": "markdown",
   "metadata": {
    "colab_type": "text",
    "id": "mENNVQd3eD-h"
   },
   "source": [
    "We hope that the visualization tricks described here may be helpful for analyzing representations learned by neural networks or find their use in various artistic applications."
   ]
  }
 ],
 "metadata": {
  "colab": {
   "default_view": {},
   "name": "deepdream2.ipynb",
   "provenance": [],
   "version": "0.3.2",
   "views": {}
  },
  "kernelspec": {
   "display_name": "Python 3",
   "language": "python",
   "name": "python3"
  },
  "language_info": {
   "codemirror_mode": {
    "name": "ipython",
    "version": 3
   },
   "file_extension": ".py",
   "mimetype": "text/x-python",
   "name": "python",
   "nbconvert_exporter": "python",
   "pygments_lexer": "ipython3",
   "version": "3.6.0"
  }
 },
 "nbformat": 4,
 "nbformat_minor": 0
}
