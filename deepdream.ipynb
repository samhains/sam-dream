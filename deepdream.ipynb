{
 "cells": [
  {
   "cell_type": "markdown",
   "metadata": {
    "colab_type": "text",
    "id": "xu2SVpFJjmJr"
   },
   "source": [
    "# DeepDreaming with TensorFlow"
   ]
  },
  {
   "cell_type": "code",
   "execution_count": 142,
   "metadata": {
    "cellView": "both",
    "colab": {
     "autoexec": {
      "startup": false,
      "wait_interval": 0
     },
     "output_extras": []
    },
    "colab_type": "code",
    "collapsed": true,
    "executionInfo": {
     "elapsed": 371,
     "status": "ok",
     "timestamp": 1457963606294,
     "user": {
      "color": "#1FA15D",
      "displayName": "Alexander Mordvintsev",
      "isAnonymous": false,
      "isMe": true,
      "permissionId": "12341152118244997759",
      "photoUrl": "https://lh3.googleusercontent.com/-XdUIqdMkCWA/AAAAAAAAAAI/AAAAAAAAAAA/4252rscbv5M/s128/photo.jpg",
      "sessionId": "1269ead540f76ce5",
      "userId": "108092561333339272254"
     },
     "user_tz": -60
    },
    "id": "jtD9nb-2QgkY",
    "outputId": "b935629b-8608-45c1-942f-612b7dbb13d3",
    "scrolled": false
   },
   "outputs": [],
   "source": [
    "# boilerplate code\n",
    "from __future__ import print_function\n",
    "import os\n",
    "from io import BytesIO\n",
    "import numpy as np\n",
    "from functools import partial\n",
    "import PIL.Image\n",
    "from IPython.display import clear_output, Image, display, HTML\n",
    "\n",
    "import tensorflow as tf"
   ]
  },
  {
   "cell_type": "code",
   "execution_count": 143,
   "metadata": {
    "collapsed": false,
    "scrolled": false
   },
   "outputs": [],
   "source": [
    "#!wget https://storage.googleapis.com/download.tensorflow.org/models/inception5h.zip && unzip inception5h.zip"
   ]
  },
  {
   "cell_type": "code",
   "execution_count": 144,
   "metadata": {
    "cellView": "both",
    "colab": {
     "autoexec": {
      "startup": false,
      "wait_interval": 0
     },
     "output_extras": []
    },
    "colab_type": "code",
    "collapsed": false,
    "executionInfo": {
     "elapsed": 2264,
     "status": "ok",
     "timestamp": 1457962713799,
     "user": {
      "color": "#1FA15D",
      "displayName": "Alexander Mordvintsev",
      "isAnonymous": false,
      "isMe": true,
      "permissionId": "12341152118244997759",
      "photoUrl": "https://lh3.googleusercontent.com/-XdUIqdMkCWA/AAAAAAAAAAI/AAAAAAAAAAA/4252rscbv5M/s128/photo.jpg",
      "sessionId": "761b412462cda2d0",
      "userId": "108092561333339272254"
     },
     "user_tz": -60
    },
    "id": "1kJuJRLiQgkg",
    "outputId": "d2aaf8cc-91e1-4864-8cf8-0aef612db1d6",
    "scrolled": false
   },
   "outputs": [],
   "source": [
    "model_fn = 'tensorflow_inception_graph.pb'\n",
    "\n",
    "# creating TensorFlow session and loading the model\n",
    "graph = tf.Graph()\n",
    "sess = tf.InteractiveSession(graph=graph)\n",
    "with tf.gfile.FastGFile(model_fn, 'rb') as f:\n",
    "    graph_def = tf.GraphDef()\n",
    "    graph_def.ParseFromString(f.read())\n",
    "t_input = tf.placeholder(np.float32, name='input') # define the input tensor\n",
    "imagenet_mean = 117.0\n",
    "t_preprocessed = tf.expand_dims(t_input-imagenet_mean, 0)\n",
    "tf.import_graph_def(graph_def, {'input':t_preprocessed})"
   ]
  },
  {
   "cell_type": "markdown",
   "metadata": {
    "colab_type": "text",
    "id": "eJZVMSmiQgkp"
   },
   "source": [
    "To take a glimpse into the kinds of patterns that the network learned to recognize, we will try to generate images that maximize the sum of activations of particular channel of a particular convolutional layer of the neural network. The network we explore contains many convolutional layers, each of which outputs tens to hundreds of feature channels, so we have plenty of patterns to explore."
   ]
  },
  {
   "cell_type": "code",
   "execution_count": 145,
   "metadata": {
    "cellView": "both",
    "colab": {
     "autoexec": {
      "startup": false,
      "wait_interval": 0
     },
     "output_extras": [
      {
       "item_id": 1
      },
      {
       "item_id": 2
      }
     ]
    },
    "colab_type": "code",
    "collapsed": false,
    "executionInfo": {
     "elapsed": 1198,
     "status": "ok",
     "timestamp": 1457962715078,
     "user": {
      "color": "#1FA15D",
      "displayName": "Alexander Mordvintsev",
      "isAnonymous": false,
      "isMe": true,
      "permissionId": "12341152118244997759",
      "photoUrl": "https://lh3.googleusercontent.com/-XdUIqdMkCWA/AAAAAAAAAAI/AAAAAAAAAAA/4252rscbv5M/s128/photo.jpg",
      "sessionId": "761b412462cda2d0",
      "userId": "108092561333339272254"
     },
     "user_tz": -60
    },
    "id": "LrucdvgyQgks",
    "outputId": "5936270b-5da8-4825-b2e9-145c494d36e6",
    "scrolled": false
   },
   "outputs": [
    {
     "name": "stdout",
     "output_type": "stream",
     "text": [
      "Number of layers 59\n",
      "Total number of feature channels: 7548\n"
     ]
    }
   ],
   "source": [
    "layers = [op.name for op in graph.get_operations() if op.type=='Conv2D' and 'import/' in op.name]\n",
    "feature_nums = [int(graph.get_tensor_by_name(name+':0').get_shape()[-1]) for name in layers]\n",
    "\n",
    "print('Number of layers', len(layers))\n",
    "print('Total number of feature channels:', sum(feature_nums))\n",
    "\n",
    "\n",
    "# Helper functions for TF Graph visualization\n",
    "\n",
    "def strip_consts(graph_def, max_const_size=32):\n",
    "    \"\"\"Strip large constant values from graph_def.\"\"\"\n",
    "    strip_def = tf.GraphDef()\n",
    "    for n0 in graph_def.node:\n",
    "        n = strip_def.node.add() \n",
    "        n.MergeFrom(n0)\n",
    "        if n.op == 'Const':\n",
    "            tensor = n.attr['value'].tensor\n",
    "            size = len(tensor.tensor_content)\n",
    "            if size > max_const_size:\n",
    "                tensor.tensor_content = tf.compat.as_bytes(\"<stripped %d bytes>\"%size)\n",
    "    return strip_def\n",
    "  \n",
    "def rename_nodes(graph_def, rename_func):\n",
    "    res_def = tf.GraphDef()\n",
    "    for n0 in graph_def.node:\n",
    "        n = res_def.node.add() \n",
    "        n.MergeFrom(n0)\n",
    "        n.name = rename_func(n.name)\n",
    "        for i, s in enumerate(n.input):\n",
    "            n.input[i] = rename_func(s) if s[0]!='^' else '^'+rename_func(s[1:])\n",
    "    return res_def\n",
    "  \n",
    "def show_graph(graph_def, max_const_size=32):\n",
    "    \"\"\"Visualize TensorFlow graph.\"\"\"\n",
    "    if hasattr(graph_def, 'as_graph_def'):\n",
    "        graph_def = graph_def.as_graph_def()\n",
    "    strip_def = strip_consts(graph_def, max_const_size=max_const_size)\n",
    "    code = \"\"\"\n",
    "        <script>\n",
    "          function load() {{\n",
    "            document.getElementById(\"{id}\").pbtxt = {data};\n",
    "          }}\n",
    "        </script>\n",
    "        <link rel=\"import\" href=\"https://tensorboard.appspot.com/tf-graph-basic.build.html\" onload=load()>\n",
    "        <div style=\"height:600px\">\n",
    "          <tf-graph-basic id=\"{id}\"></tf-graph-basic>\n",
    "        </div>\n",
    "    \"\"\".format(data=repr(str(strip_def)), id='graph'+str(np.random.rand()))\n",
    "  \n",
    "    iframe = \"\"\"\n",
    "        <iframe seamless style=\"width:800px;height:620px;border:0\" srcdoc=\"{}\"></iframe>\n",
    "    \"\"\".format(code.replace('\"', '&quot;'))\n",
    "    display(HTML(iframe))\n",
    "\n",
    "# Visualizing the network graph. Be sure expand the \"mixed\" nodes to see their \n",
    "# internal structure. We are going to visualize \"Conv2D\" nodes.\n",
    "tmp_def = rename_nodes(graph_def, lambda s:\"/\".join(s.split('_',1)))\n",
    "#show_graph(tmp_def)"
   ]
  },
  {
   "cell_type": "markdown",
   "metadata": {
    "colab_type": "text",
    "id": "Nv2JqNLBhy1j"
   },
   "source": [
    "<a id='naive'></a>\n",
    "## Naive feature visualization"
   ]
  },
  {
   "cell_type": "markdown",
   "metadata": {
    "colab_type": "text",
    "id": "6LXaGEJkQgk4"
   },
   "source": [
    "Let's start with a naive way of visualizing these. Image-space gradient ascent!"
   ]
  },
  {
   "cell_type": "code",
   "execution_count": 146,
   "metadata": {
    "cellView": "both",
    "colab": {
     "autoexec": {
      "startup": false,
      "wait_interval": 0
     },
     "output_extras": [
      {
       "item_id": 1
      },
      {
       "item_id": 2
      }
     ]
    },
    "colab_type": "code",
    "collapsed": false,
    "executionInfo": {
     "elapsed": 3,
     "status": "ok",
     "timestamp": 1457962479327,
     "user": {
      "color": "#1FA15D",
      "displayName": "Alexander Mordvintsev",
      "isAnonymous": false,
      "isMe": true,
      "permissionId": "12341152118244997759",
      "photoUrl": "https://lh3.googleusercontent.com/-XdUIqdMkCWA/AAAAAAAAAAI/AAAAAAAAAAA/4252rscbv5M/s128/photo.jpg",
      "sessionId": "761b412462cda2d0",
      "userId": "108092561333339272254"
     },
     "user_tz": -60
    },
    "id": "ZxC_XGGXQgk7",
    "outputId": "1c971a74-bf65-4069-cfd0-1473aa909a83",
    "scrolled": false
   },
   "outputs": [],
   "source": [
    "# Picking some internal layer. Note that we use outputs before applying the ReLU nonlinearity\n",
    "# to have non-zero gradients for features with negative initial activations.\n",
    "layer = 'mixed5a_1x1_pre_relu'\n",
    "channel = 134 # picking some feature channel to visualize\n",
    "\n",
    "# start with a gray image with a little noise\n",
    "img_noise = np.random.uniform(size=(224,224,3)) + 100.0\n",
    "\n",
    "def showarray(a, fmt='jpeg'):\n",
    "    a = np.uint8(np.clip(a, 0, 1)*255)\n",
    "    f = BytesIO()\n",
    "    PIL.Image.fromarray(a).save(f, fmt)\n",
    "    display(Image(data=f.getvalue()))\n",
    "    \n",
    "def visstd(a, s=0.1):\n",
    "    '''Normalize the image range for visualization'''\n",
    "    return (a-a.mean())/max(a.std(), 1e-4)*s + 0.5\n",
    "\n",
    "def T(layer):\n",
    "    '''Helper for getting layer output tensor'''\n",
    "    return graph.get_tensor_by_name(\"import/%s:0\"%layer)\n",
    "\n",
    "def render_naive(t_obj, img0=img_noise, iter_n=20, step=1.0):\n",
    "    t_score = tf.reduce_mean(t_obj) # defining the optimization objective\n",
    "    t_grad = tf.gradients(t_score, t_input)[0] # behold the power of automatic differentiation!\n",
    "    \n",
    "    img = img0.copy()\n",
    "    for i in range(iter_n):\n",
    "        g, score = sess.run([t_grad, t_score], {t_input:img})\n",
    "        # normalizing the gradient, so the same step size should work \n",
    "        g /= g.std()+1e-8         # for different layers and networks\n",
    "        img += g*step\n",
    "        print(score, end = ' ')\n",
    "    clear_output()\n",
    "    showarray(visstd(img))\n",
    "\n",
    "#render_naive(T(layer)[:,:,:,channel])"
   ]
  },
  {
   "cell_type": "markdown",
   "metadata": {
    "colab_type": "text",
    "id": "ZroBKE5YiDsb"
   },
   "source": [
    "<a id=\"multiscale\"></a>\n",
    "## Multiscale image generation\n",
    "\n",
    "Looks like the network wants to show us something interesting! Let's help it. We are going to apply gradient ascent on multiple scales. Details formed on smaller scale will be upscaled and augmented with additional details on the next scale.\n",
    "\n",
    "With multiscale image generation it may be tempting to set the number of octaves to some high value to produce wallpaper-sized images. Storing network activations and backprop values will quickly run out of GPU memory in this case. There is a simple trick to avoid this: split the image into smaller tiles and compute each tile gradient independently. Applying random shifts to the image before every iteration helps avoid tile seams and improves the overall image quality."
   ]
  },
  {
   "cell_type": "code",
   "execution_count": 147,
   "metadata": {
    "cellView": "both",
    "colab": {
     "autoexec": {
      "startup": false,
      "wait_interval": 0
     },
     "output_extras": [
      {
       "item_id": 1
      }
     ]
    },
    "colab_type": "code",
    "collapsed": false,
    "executionInfo": {
     "elapsed": 464,
     "status": "ok",
     "timestamp": 1457963844162,
     "user": {
      "color": "#1FA15D",
      "displayName": "Alexander Mordvintsev",
      "isAnonymous": false,
      "isMe": true,
      "permissionId": "12341152118244997759",
      "photoUrl": "https://lh3.googleusercontent.com/-XdUIqdMkCWA/AAAAAAAAAAI/AAAAAAAAAAA/4252rscbv5M/s128/photo.jpg",
      "sessionId": "1269ead540f76ce5",
      "userId": "108092561333339272254"
     },
     "user_tz": -60
    },
    "id": "2iwWSOgsQglG",
    "outputId": "221dae81-914b-4167-eb49-26ef2d431a66",
    "scrolled": false
   },
   "outputs": [],
   "source": [
    "def tffunc(*argtypes):\n",
    "    '''Helper that transforms TF-graph generating function into a regular one.\n",
    "    See \"resize\" function below.\n",
    "    '''\n",
    "    placeholders = list(map(tf.placeholder, argtypes))\n",
    "    def wrap(f):\n",
    "        out = f(*placeholders)\n",
    "        def wrapper(*args, **kw):\n",
    "            return out.eval(dict(zip(placeholders, args)), session=kw.get('session'))\n",
    "        return wrapper\n",
    "    return wrap\n",
    "\n",
    "# Helper function that uses TF to resize an image\n",
    "def resize(img, size):\n",
    "    img = tf.expand_dims(img, 0)\n",
    "    return tf.image.resize_bilinear(img, size)[0,:,:,:]\n",
    "resize = tffunc(np.float32, np.int32)(resize)\n",
    "\n",
    "\n",
    "def calc_grad_tiled(img, t_grad, tile_size=512):\n",
    "    '''Compute the value of tensor t_grad over the image in a tiled way.\n",
    "    Random shifts are applied to the image to blur tile boundaries over \n",
    "    multiple iterations.'''\n",
    "    sz = tile_size\n",
    "    h, w = img.shape[:2]\n",
    "    sx, sy = np.random.randint(sz, size=2)\n",
    "    img_shift = np.roll(np.roll(img, sx, 1), sy, 0)\n",
    "    grad = np.zeros_like(img)\n",
    "    for y in range(0, max(h-sz//2, sz),sz):\n",
    "        for x in range(0, max(w-sz//2, sz),sz):\n",
    "            sub = img_shift[y:y+sz,x:x+sz]\n",
    "            g = sess.run(t_grad, {t_input:sub})\n",
    "            grad[y:y+sz,x:x+sz] = g\n",
    "    return np.roll(np.roll(grad, -sx, 1), -sy, 0)"
   ]
  },
  {
   "cell_type": "code",
   "execution_count": 148,
   "metadata": {
    "cellView": "both",
    "colab": {
     "autoexec": {
      "startup": false,
      "wait_interval": 0
     },
     "output_extras": [
      {
       "item_id": 1
      },
      {
       "item_id": 2
      }
     ]
    },
    "colab_type": "code",
    "collapsed": false,
    "executionInfo": {
     "elapsed": 127,
     "status": "ok",
     "timestamp": 1457963487829,
     "user": {
      "color": "#1FA15D",
      "displayName": "Alexander Mordvintsev",
      "isAnonymous": false,
      "isMe": true,
      "permissionId": "12341152118244997759",
      "photoUrl": "https://lh3.googleusercontent.com/-XdUIqdMkCWA/AAAAAAAAAAI/AAAAAAAAAAA/4252rscbv5M/s128/photo.jpg",
      "sessionId": "1269ead540f76ce5",
      "userId": "108092561333339272254"
     },
     "user_tz": -60
    },
    "id": "GRCJdG8gQglN",
    "outputId": "7e21352d-9131-4f81-a52f-912b2e299475",
    "scrolled": false
   },
   "outputs": [],
   "source": [
    "def render_multiscale(t_obj, img0=img_noise, iter_n=10, step=1.0, octave_n=3, octave_scale=1.4):\n",
    "    t_score = tf.reduce_mean(t_obj) # defining the optimization objective\n",
    "    t_grad = tf.gradients(t_score, t_input)[0] # behold the power of automatic differentiation!\n",
    "    \n",
    "    img = img0.copy()\n",
    "    for octave in range(octave_n):\n",
    "        if octave>0:\n",
    "            hw = np.float32(img.shape[:2])*octave_scale\n",
    "            img = resize(img, np.int32(hw))\n",
    "        for i in range(iter_n):\n",
    "            g = calc_grad_tiled(img, t_grad)\n",
    "            # normalizing the gradient, so the same step size should work \n",
    "            g /= g.std()+1e-8         # for different layers and networks\n",
    "            img += g*step\n",
    "            print('.', end = ' ')\n",
    "        clear_output()\n",
    "        #showarray(visstd(img))\n",
    "\n",
    "#render_multiscale(T(layer)[:,:,:,channel])"
   ]
  },
  {
   "cell_type": "markdown",
   "metadata": {
    "colab_type": "text",
    "id": "mDSZMtVYQglV"
   },
   "source": [
    "<a id=\"laplacian\"></a>\n",
    "## Laplacian Pyramid Gradient Normalization\n",
    "\n",
    "This looks better, but the resulting images mostly contain high frequencies. Can we improve it? One way is to add a smoothness prior into the optimization objective. This will effectively blur the image a little every iteration, suppressing the higher frequencies, so that the lower frequencies can catch up. This will require more iterations to produce a nice image. Why don't we just boost lower frequencies of the gradient instead? One way to achieve this is through the [Laplacian pyramid](https://en.wikipedia.org/wiki/Pyramid_%28image_processing%29#Laplacian_pyramid) decomposition. We call the resulting technique _Laplacian Pyramid Gradient Normalization_."
   ]
  },
  {
   "cell_type": "code",
   "execution_count": 149,
   "metadata": {
    "cellView": "both",
    "colab": {
     "autoexec": {
      "startup": false,
      "wait_interval": 0
     },
     "output_extras": [
      {
       "item_id": 1
      }
     ]
    },
    "colab_type": "code",
    "collapsed": false,
    "executionInfo": {
     "elapsed": 512,
     "status": "ok",
     "timestamp": 1457963876373,
     "user": {
      "color": "#1FA15D",
      "displayName": "Alexander Mordvintsev",
      "isAnonymous": false,
      "isMe": true,
      "permissionId": "12341152118244997759",
      "photoUrl": "https://lh3.googleusercontent.com/-XdUIqdMkCWA/AAAAAAAAAAI/AAAAAAAAAAA/4252rscbv5M/s128/photo.jpg",
      "sessionId": "1269ead540f76ce5",
      "userId": "108092561333339272254"
     },
     "user_tz": -60
    },
    "id": "Do3WpFSUQglX",
    "outputId": "99835b80-ed6f-47a5-85c3-c77bd55d7b17",
    "scrolled": false
   },
   "outputs": [],
   "source": [
    "k = np.float32([1,4,6,4,1])\n",
    "k = np.outer(k, k)\n",
    "k5x5 = k[:,:,None,None]/k.sum()*np.eye(3, dtype=np.float32)\n",
    "\n",
    "def lap_split(img):\n",
    "    '''Split the image into lo and hi frequency components'''\n",
    "    with tf.name_scope('split'):\n",
    "        lo = tf.nn.conv2d(img, k5x5, [1,2,2,1], 'SAME')\n",
    "        lo2 = tf.nn.conv2d_transpose(lo, k5x5*4, tf.shape(img), [1,2,2,1])\n",
    "        hi = img-lo2\n",
    "    return lo, hi\n",
    "\n",
    "def lap_split_n(img, n):\n",
    "    '''Build Laplacian pyramid with n splits'''\n",
    "    levels = []\n",
    "    for i in range(n):\n",
    "        img, hi = lap_split(img)\n",
    "        levels.append(hi)\n",
    "    levels.append(img)\n",
    "    return levels[::-1]\n",
    "\n",
    "def lap_merge(levels):\n",
    "    '''Merge Laplacian pyramid'''\n",
    "    img = levels[0]\n",
    "    for hi in levels[1:]:\n",
    "        with tf.name_scope('merge'):\n",
    "            img = tf.nn.conv2d_transpose(img, k5x5*4, tf.shape(hi), [1,2,2,1]) + hi\n",
    "    return img\n",
    "\n",
    "def normalize_std(img, eps=1e-10):\n",
    "    '''Normalize image by making its standard deviation = 1.0'''\n",
    "    with tf.name_scope('normalize'):\n",
    "        std = tf.sqrt(tf.reduce_mean(tf.square(img)))\n",
    "        return img/tf.maximum(std, eps)\n",
    "\n",
    "def lap_normalize(img, scale_n=4):\n",
    "    '''Perform the Laplacian pyramid normalization.'''\n",
    "    img = tf.expand_dims(img,0)\n",
    "    tlevels = lap_split_n(img, scale_n)\n",
    "    tlevels = list(map(normalize_std, tlevels))\n",
    "    out = lap_merge(tlevels)\n",
    "    return out[0,:,:,:]\n",
    "\n",
    "# Showing the lap_normalize graph with TensorBoard\n",
    "lap_graph = tf.Graph()\n",
    "with lap_graph.as_default():\n",
    "    lap_in = tf.placeholder(np.float32, name='lap_in')\n",
    "    lap_out = lap_normalize(lap_in)\n",
    "#show_graph(lap_graph)"
   ]
  },
  {
   "cell_type": "code",
   "execution_count": 257,
   "metadata": {
    "cellView": "both",
    "colab": {
     "autoexec": {
      "startup": false,
      "wait_interval": 0
     },
     "output_extras": [
      {
       "item_id": 1
      },
      {
       "item_id": 2
      }
     ]
    },
    "colab_type": "code",
    "collapsed": false,
    "executionInfo": {
     "elapsed": 17273,
     "status": "ok",
     "timestamp": 1457964054088,
     "user": {
      "color": "#1FA15D",
      "displayName": "Alexander Mordvintsev",
      "isAnonymous": false,
      "isMe": true,
      "permissionId": "12341152118244997759",
      "photoUrl": "https://lh3.googleusercontent.com/-XdUIqdMkCWA/AAAAAAAAAAI/AAAAAAAAAAA/4252rscbv5M/s128/photo.jpg",
      "sessionId": "1269ead540f76ce5",
      "userId": "108092561333339272254"
     },
     "user_tz": -60
    },
    "id": "zj8Ms-WqQgla",
    "outputId": "aa54c6c3-bf38-4054-f3f4-a5c82218e251",
    "scrolled": false
   },
   "outputs": [],
   "source": [
    "def render_lapnorm(t_obj, img0=img_noise, visfunc=visstd,\n",
    "                   iter_n=10, step=1.0, octave_n=3, octave_scale=1.4, lap_n=4):\n",
    "    t_score = tf.reduce_mean(t_obj) # defining the optimization objective\n",
    "    t_grad = tf.gradients(t_score, t_input)[0] # behold the power of automatic differentiation!\n",
    "    # build the laplacian normalization graph\n",
    "    lap_norm_func = tffunc(np.float32)(partial(lap_normalize, scale_n=lap_n))\n",
    "\n",
    "    img = img0.copy()\n",
    "    for octave in range(octave_n):\n",
    "        #print('resizing', img, img.shape)\n",
    "        if octave>0:\n",
    "            hw = np.float32(img.shape[:2])*octave_scale\n",
    "            #print(np.int32(hw))\n",
    "            img = resize(img, np.int32(hw), order=3,\n",
    "                 clip=False, preserve_range=True)\n",
    "        for i in range(iter_n):\n",
    "            g = calc_grad_tiled(img, t_grad)\n",
    "            g = lap_norm_func(g)\n",
    "            img += g*step\n",
    "            print('.', end = ' ')\n",
    "        \n",
    "        clear_output()\n",
    "        showarray(visfunc(img))\n",
    "    return img[np.newaxis]\n",
    "# 195 & 188\n",
    "# channel & 189\n",
    "#render_lapnorm(T(layer)[:,:,:,channel]+T(layer)[:,:,:,189])"
   ]
  },
  {
   "cell_type": "markdown",
   "metadata": {
    "colab_type": "text",
    "id": "YzXJUF2lQgln"
   },
   "source": [
    "<a id=\"playing\"></a>\n",
    "## Playing with feature visualizations\n",
    "\n",
    "We got a nice smooth image using only 10 iterations per octave. In case of running on GPU this takes just a few seconds. Let's try to visualize another channel from the same layer. The network can generate wide diversity of patterns."
   ]
  },
  {
   "cell_type": "code",
   "execution_count": 208,
   "metadata": {
    "collapsed": false
   },
   "outputs": [
    {
     "name": "stdout",
     "output_type": "stream",
     "text": [
      "111.18\n",
      "100.524367116\n"
     ]
    }
   ],
   "source": [
    "import matplotlib.pyplot as plt\n",
    "%matplotlib inline\n"
   ]
  },
  {
   "cell_type": "code",
   "execution_count": 252,
   "metadata": {
    "collapsed": false
   },
   "outputs": [
    {
     "data": {
      "image/jpeg": "[encoded data removed]",
      "text/plain": [
       "<IPython.core.display.Image object>"
      ]
     },
     "metadata": {},
     "output_type": "display_data"
    },
    {
     "data": {
      "text/plain": [
       "array([[[[  77.58673493,   99.8170189 ,   63.00811936],\n",
       "         [  91.83888933,   99.9337902 ,   77.16718058],\n",
       "         [  90.47442962,   91.92549809,   76.63296108],\n",
       "         ..., \n",
       "         [  86.78481619,   70.1916732 ,   83.52435604],\n",
       "         [  93.145288  ,   83.03163428,   85.32000094],\n",
       "         [  89.62274112,   92.66750502,   73.10904402]],\n",
       "\n",
       "        [[  99.61079902,  114.66077098,   81.96671943],\n",
       "         [ 125.25384435,  119.72024613,  100.92873374],\n",
       "         [ 126.91327521,  120.81066369,  101.00407151],\n",
       "         ..., \n",
       "         [ 116.31914881,  102.91209914,  105.57611755],\n",
       "         [ 119.86208297,  114.82644618,  108.63659194],\n",
       "         [ 109.75041086,  111.92326109,   93.36585389]],\n",
       "\n",
       "        [[ 100.74650746,  105.71390871,   81.29153716],\n",
       "         [ 123.96986076,  105.96339652,   99.39875571],\n",
       "         [ 130.22302648,  108.72490841,  100.61737577],\n",
       "         ..., \n",
       "         [ 126.26154218,  127.00686407,  114.01077119],\n",
       "         [ 128.30601024,  120.97170016,  115.73789415],\n",
       "         [ 110.33372419,  107.05182568,   93.33884029]],\n",
       "\n",
       "        ..., \n",
       "        [[  76.85960197,   85.62501918,   76.96358567],\n",
       "         [  99.02465301,   97.52035058,   90.88930398],\n",
       "         [  95.95308577,   90.23978781,   84.74116893],\n",
       "         ..., \n",
       "         [  76.85623888,   91.28029002,   88.76147155],\n",
       "         [  79.66736255,   94.31193853,   89.89019413],\n",
       "         [  69.47525341,   83.7534514 ,   74.7254185 ]],\n",
       "\n",
       "        [[  86.99892174,   87.1265549 ,   80.333711  ],\n",
       "         [ 103.98132457,  101.51075939,   96.95080641],\n",
       "         [  95.42720991,   95.21162261,   91.67823885],\n",
       "         ..., \n",
       "         [  80.2697864 ,   94.29390449,   89.12508842],\n",
       "         [  89.78452603,   89.26406139,   94.65268034],\n",
       "         [  81.51554066,   82.31112208,   81.19165186]],\n",
       "\n",
       "        [[  70.23066546,   77.0314208 ,   64.53196304],\n",
       "         [  79.19520169,   77.85667939,   73.14560572],\n",
       "         [  69.70803374,   72.73393327,   73.50670509],\n",
       "         ..., \n",
       "         [  67.44996222,   74.43000111,   70.45382885],\n",
       "         [  75.61438722,   78.27955069,   72.3262306 ],\n",
       "         [  72.37964687,   76.53814355,   64.25130947]]]])"
      ]
     },
     "execution_count": 252,
     "metadata": {},
     "output_type": "execute_result"
    }
   ],
   "source": [
    "img2 = render_lapnorm(T(layer)[:, :, :, 195])"
   ]
  },
  {
   "cell_type": "code",
   "execution_count": 258,
   "metadata": {
    "collapsed": true
   },
   "outputs": [],
   "source": [
    "def fractal_zoom(img0=img_noise, visfunc=visstd,\n",
    "                   n_iterations=50, gif_step=5, crop=1, neuron_1=195, neuron_2=188, gif_name='6-fractal.gif'):\n",
    "    img_copy = img_noise.copy()\n",
    "    img_copy = img_copy[np.newaxis]\n",
    "    imgs = []\n",
    "    n_img, height, width, ch = img_copy.shape\n",
    "    for it_i in range(n_iterations):\n",
    "        print(it_i, end=', ')\n",
    "\n",
    "        img_copy = render_lapnorm(T(layer)[:,:,:,neuron_1]+T(layer)[:,:,:,neuron_2], img0=img_copy[0])\n",
    "        #print(img_copy.shape)\n",
    "        # Crop a 1 pixel border from height and width\n",
    "        img_copy = img_copy[:, crop:-crop, crop:-crop, :]\n",
    "\n",
    "        # Resize (Note: in the lecture, we used scipy's resize which\n",
    "        # could not resize images outside of 0-1 range, and so we had\n",
    "        # to store the image ranges.  This is a much simpler resize\n",
    "        # method that allows us to `preserve_range`.)\n",
    "        #print('resizing', img_copy)\n",
    "        img_copy = resize(img_copy[0], (height, width), order=3,\n",
    "                     clip=False, preserve_range=True\n",
    "                     )[np.newaxis].astype(np.float32)\n",
    "\n",
    "        if it_i % gif_step == 0 and it_i < 5:\n",
    "\n",
    "            imgs.append(visstd(img_copy[0]))\n",
    "\n",
    "    gif.build_gif(imgs, saveto=gif_name)"
   ]
  },
  {
   "cell_type": "code",
   "execution_count": null,
   "metadata": {
    "collapsed": false
   },
   "outputs": [
    {
     "data": {
      "image/jpeg": "[encoded data removed]",
      "text/plain": [
       "<IPython.core.display.Image object>"
      ]
     },
     "metadata": {},
     "output_type": "display_data"
    },
    {
     "name": "stdout",
     "output_type": "stream",
     "text": [
      ". . . . . . . "
     ]
    }
   ],
   "source": [
    "fractal_zoom(img0=img_copy[0], gif_name=\"1.gif\", n_iterations=2000)"
   ]
  },
  {
   "cell_type": "code",
   "execution_count": null,
   "metadata": {
    "collapsed": false
   },
   "outputs": [],
   "source": [
    "fractal_zoom(neuron_1=channel, neuron_2=189, gif_name=\"2.gif\", n_iterations=2000)"
   ]
  },
  {
   "cell_type": "markdown",
   "metadata": {
    "colab_type": "text",
    "id": "ka6RyOMEnrB5"
   },
   "source": [
    "Lower layers produce features of lower complexity."
   ]
  },
  {
   "cell_type": "code",
   "execution_count": 229,
   "metadata": {
    "collapsed": false
   },
   "outputs": [
    {
     "data": {
      "text/html": [
       "<img src=\"6-fractal.gif\" width=\"300\" height=\"300\"/>"
      ],
      "text/plain": [
       "<IPython.core.display.Image object>"
      ]
     },
     "execution_count": 229,
     "metadata": {},
     "output_type": "execute_result"
    }
   ],
   "source": [
    "import IPython.display as ipyd\n",
    "ipyd.Image(url='6-fractal.gif', height=300, width=300)"
   ]
  },
  {
   "cell_type": "code",
   "execution_count": null,
   "metadata": {
    "collapsed": true
   },
   "outputs": [],
   "source": []
  }
 ],
 "metadata": {
  "colab": {
   "default_view": {},
   "name": "deepdream2.ipynb",
   "provenance": [],
   "version": "0.3.2",
   "views": {}
  },
  "kernelspec": {
   "display_name": "Python 3",
   "language": "python",
   "name": "python3"
  },
  "language_info": {
   "codemirror_mode": {
    "name": "ipython",
    "version": 3
   },
   "file_extension": ".py",
   "mimetype": "text/x-python",
   "name": "python",
   "nbconvert_exporter": "python",
   "pygments_lexer": "ipython3",
   "version": "3.6.0"
  }
 },
 "nbformat": 4,
 "nbformat_minor": 0
}
